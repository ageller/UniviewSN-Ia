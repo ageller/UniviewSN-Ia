{
 "cells": [
  {
   "cell_type": "markdown",
   "metadata": {},
   "source": [
    "# Uniview module for a type Ia SN \n",
    "\n",
    "*Aaron Geller, 2019*\n",
    "\n",
    "I'm following [this awesome tutorial](https://www.clicktorelease.com/blog/vertex-displacement-noise-3d-webgl-glsl-three-js/) to create the X-ray portion.  Other bits of this were drawn from my [SN1987a module](https://github.com/ageller/UniviewSN1987a).\n",
    "\n",
    "### Imports and function definitions"
   ]
  },
  {
   "cell_type": "code",
   "execution_count": 4,
   "metadata": {},
   "outputs": [],
   "source": [
    "#This directory contains all the data needed for the module. It should be in the same directory as the notebook\n",
    "dataFolder = \"data\" \n",
    "import sys, os, shutil, errno, string, urllib\n",
    "\n",
    "\n",
    "sys.path.append(( os.path.abspath( os.path.join(os.path.realpath(\"__file__\"),  os.pardir, os.pardir) )))\n",
    "import uvmodlib.v1 as uvmod"
   ]
  },
  {
   "cell_type": "markdown",
   "metadata": {},
   "source": [
    "### USES Conf Template "
   ]
  },
  {
   "cell_type": "code",
   "execution_count": 108,
   "metadata": {},
   "outputs": [],
   "source": [
    "Template = \"\"\"mesh\n",
    "{  \n",
    "    data center    ./modules/$folderName/center.raw\n",
    "    data  sphere ./modules/$folderName/sphere200.obj\n",
    "    data  quad ./modules/$folderName/quad.3ds\n",
    "    \n",
    "    cullRadius $cr\n",
    "    glslVersion 330\n",
    "    \n",
    "    propertyCollection \n",
    "    {        \n",
    "        __objectName__\n",
    "        {           \n",
    "\n",
    "            vec1f SNRadMax 25 | public | desc \"max SN radius\" | widget slider | range 0 100\n",
    "            vec1f SNTimeMax 10 | public | desc \"max SN time\" | widget slider | range 0 30\n",
    "            vec1f SNTimeMin 3 | public | desc \"start SN time\" | widget slider | range 0 30\n",
    "            vec1f SNAlpha 1 | public | desc \"SN alpha \" | widget slider | range 0 1\n",
    "            vec1f SNFadeFac 1 | public | desc \"SN fade factor \" | widget slider | range 0 100\n",
    "            \n",
    "            vec1f XratRadMax 10 | public | desc \"max Xray radius\" | widget slider | range 0 500\n",
    "            vec1f XrayTimeMax 100 | public | desc \"max Xray time\" | widget slider | range 0 200\n",
    "            vec1f XrayTimeMin 3 | public | desc \"min Xray time\" | widget slider | range 0 200\n",
    "            vec1f XrayAlpha 1 | public | desc \"Xray alpha \" | widget slider | range 0 1\n",
    "            vec1f XrayNoiseSpeed 0.5 | public | desc \"Xray noise speed \" | widget slider | range 0 10\n",
    "            vec1f XrayNoisePulseHeight 0 | public | desc \"Xray noise pulse height \" | widget slider | range 0 2\n",
    "            vec1f XrayNoiseDisplacementHeight 0.5 | public | desc \"Xray noise displacement height \" | widget slider | range 0 3\n",
    "            vec1f XrayNoiseTurbulenceDetail 0.5 | public | desc \"Xray noise speed \" | widget slider | range 0 1\n",
    "\n",
    "            vec1f coronaRad 5  | public | desc \"size of stellar corona\" | widget slider | range 0 50\n",
    "            vec1f coronaTeff 16000 | public | desc \"Teff of stellar corona for color\" | widget slider | range 0 19000\n",
    "            vec1f coronaEndTime 3 | public | desc \"time to stop showing star\" \n",
    "            \n",
    "            vec1f eventTime 0 | public | desc \"event time \" #| widget slider | range 0 30\n",
    "            vec1f transitionLength 5 | public | desc \"transition length in seconds\" \n",
    "            bool jump true | public  | desc \"jump to time without transition\"          \n",
    "            \n",
    "        }\n",
    "    }\n",
    "    \n",
    "    ############# to hold the time information\n",
    "    renderTexture\n",
    "    {\n",
    "        name                      stateTexture\n",
    "        width                     1\n",
    "        height                    1\n",
    "        numTextures               1\n",
    "        isPingPong                true\n",
    "        isPersistent              true\n",
    "        isFramePersistent         true\n",
    "        internalTextureFormat     GL_RGB32F\n",
    "        magnify                   GL_NEAREST\n",
    "        minify                    GL_NEAREST\n",
    "    }\n",
    "    ############# set Transition State\n",
    "    pass \n",
    "    {\n",
    "        useDataObject quad\n",
    "        renderTarget\n",
    "        {\n",
    "            name stateTexture\n",
    "            enableColorClear false\n",
    "        }\n",
    "         shader\n",
    "        {\n",
    "            type defaultMeshShader\n",
    "            {\n",
    "                vertexShader   ./modules/$folderName/pass0.vs\n",
    "                fragmentShader ./modules/$folderName/state.fs\n",
    "                textureFBO stateTexture stateTexture\n",
    "                stateManagerVar __objectName__.transitionLength transitionLength \n",
    "                stateManagerVar __objectName__.jump jump \n",
    "                stateManagerVar __objectName__.eventTime eventTime \n",
    "                parameter2f timeRange 0 100\n",
    "           }\n",
    "        }      \n",
    "    }\n",
    "    \n",
    "    \n",
    "    ############# Exanding X-ray sphere blue\n",
    "    pass\n",
    "    {\n",
    "        useDataObject sphere\n",
    "        shader\n",
    "        {\n",
    "            type defaultMeshShader\n",
    "            {\n",
    "                vertexShader ./modules/$folderName/xray.vs\n",
    "                fragmentShader   ./modules/$folderName/xray.fs\n",
    "                textureFBO stateTexture stateTexture\n",
    "                texture cmap ./modules/$folderName/cmapBlues.png\n",
    "                {             \n",
    "                    wrapModeS GL_CLAMP_TO_EDGE\n",
    "                    wrapModeR GL_CLAMP_TO_EDGE\n",
    "                    colorspace linear\n",
    "                } \n",
    "                \n",
    "                stateManagerVar __objectName__.radMax  XrayRadMax\n",
    "                stateManagerVar __objectName__.timeMax  XrayoTimeMax\n",
    "                stateManagerVar __objectName__.timeMin  XrayoTimeMin\n",
    "                stateManagerVar __objectName__.alpha  XrayAlpha\n",
    "                stateManagerVar __objectName__.speed  XrayNoiseSpeed\n",
    "                stateManagerVar __objectName__.pulseHeight  XrayNoisePulseHeight\n",
    "                stateManagerVar __objectName__.displacementHeight  XrayNoiseDisplacementHeight\n",
    "                stateManagerVar __objectName__.turbulenceDetail  XrayNoiseTurbulenceDetail\n",
    "                \n",
    "                glState\n",
    "                {\n",
    "                    UV_CULL_FACE_ENABLE false\n",
    "                    UV_BLEND_ENABLE true\n",
    "                    UV_DEPTH_ENABLE false\n",
    "                    UV_WRITE_MASK_DEPTH false\n",
    "                    UV_BLEND_FUNC GL_SRC_ALPHA GL_ONE_MINUS_SRC_ALPHA\n",
    "                }\n",
    "            }\n",
    "\n",
    "        }    \n",
    "    }\n",
    "    \n",
    "    ############# Optical explosion (will tie this to the light curve)\n",
    "    pass\n",
    "    {\n",
    "        useDataObject center\n",
    "        shader\n",
    "        {\n",
    "            type defaultMeshShader\n",
    "            {\n",
    "                geometryShader   ./modules/$folderName/SN.gs\n",
    "                vertexShader ./modules/$folderName/SN.vs\n",
    "                fragmentShader   ./modules/$folderName/SN.fs\n",
    "                textureFBO stateTexture stateTexture\n",
    "                texture cmap ./modules/$folderName/cmapOptical.png\n",
    "                {             \n",
    "                    wrapModeS GL_CLAMP_TO_EDGE\n",
    "                    wrapModeR GL_CLAMP_TO_EDGE\n",
    "                    colorspace linear\n",
    "                }  \n",
    "                \n",
    "                stateManagerVar __objectName__.SNRadMax  SNRadMax\n",
    "                stateManagerVar __objectName__.SNTimeMin  SNTimeMin\n",
    "                stateManagerVar __objectName__.SNTimeMax  SNTimeMax\n",
    "                stateManagerVar __objectName__.SNAlpha  SNAlpha\n",
    "                stateManagerVar __objectName__.SNFadeFac  SNFadeFac\n",
    "                \n",
    "                glState\n",
    "                {\n",
    "                    UV_CULL_FACE_ENABLE false\n",
    "                    UV_BLEND_ENABLE true\n",
    "                    UV_DEPTH_ENABLE true\n",
    "                    UV_WRITE_MASK_DEPTH false\n",
    "                    UV_BLEND_FUNC GL_SRC_ALPHA GL_ONE_MINUS_SRC_ALPHA\n",
    "                }\n",
    "            }\n",
    "\n",
    "        }    \n",
    "    }\n",
    "\n",
    "    ############# stellar corona   \n",
    "    pass\n",
    "    {\n",
    "        useDataObject center\n",
    "        shader\n",
    "        {\n",
    "            type defaultMeshShader\n",
    "            {\n",
    "                geometryShader   ./modules/$folderName/corona.gs\n",
    "                vertexShader ./modules/$folderName/corona.vs\n",
    "                fragmentShader   ./modules/$folderName/corona.fs\n",
    "                textureFBO stateTexture stateTexture\n",
    "                texture bb ./modules/$folderName/bb.png\n",
    "                {             \n",
    "                    wrapModeS GL_CLAMP_TO_EDGE\n",
    "                    wrapModeR GL_CLAMP_TO_EDGE\n",
    "                    colorspace linear\n",
    "                }\n",
    "                \n",
    "                stateManagerVar __objectName__.coronaRad  coronaRad\n",
    "                stateManagerVar __objectName__.coronaTeff  coronaTeff\n",
    "                stateManagerVar __objectName__.coronaEndTime  coronaEndTime\n",
    "                \n",
    "                glState\n",
    "                {\n",
    "                    UV_CULL_FACE_ENABLE false\n",
    "                    UV_BLEND_ENABLE true\n",
    "                    UV_DEPTH_ENABLE false\n",
    "                    UV_WRITE_MASK_DEPTH true\n",
    "                    UV_BLEND_FUNC GL_SRC_ALPHA GL_ONE_MINUS_SRC_ALPHA\n",
    "                }\n",
    "            }\n",
    "\n",
    "        }    \n",
    "    }\n",
    "\n",
    "\n",
    "}\"\"\""
   ]
  },
  {
   "cell_type": "markdown",
   "metadata": {},
   "source": [
    "### SN class"
   ]
  },
  {
   "cell_type": "code",
   "execution_count": 109,
   "metadata": {},
   "outputs": [],
   "source": [
    "class SNIa():\n",
    "    def __init__(self, object):\n",
    "        self.object = object\n",
    "        uvmod.Utility.ensurerelativepathexsists(\"pass0.vs\",dataFolder)\n",
    "        uvmod.Utility.ensurerelativepathexsists(\"state.fs\",dataFolder)\n",
    "        uvmod.Utility.ensurerelativepathexsists(\"SN.gs\",dataFolder)\n",
    "        uvmod.Utility.ensurerelativepathexsists(\"SN.vs\",dataFolder)\n",
    "        uvmod.Utility.ensurerelativepathexsists(\"SN.fs\",dataFolder)\n",
    "        uvmod.Utility.ensurerelativepathexsists(\"xray.vs\",dataFolder)\n",
    "        uvmod.Utility.ensurerelativepathexsists(\"xray.fs\",dataFolder)\n",
    "        uvmod.Utility.ensurerelativepathexsists(\"corona.gs\",dataFolder)\n",
    "        uvmod.Utility.ensurerelativepathexsists(\"corona.vs\",dataFolder)\n",
    "        uvmod.Utility.ensurerelativepathexsists(\"corona.fs\",dataFolder)\n",
    "        self.cr = 1000\n",
    "        self.Scale = 1\n",
    "\n",
    "    def generatemod(self):\n",
    "        self.object.setgeometry(self.object.name+\"Mesh.usesconf\")\n",
    "        return self.object.generatemod()\n",
    "    def generatefiles(self, absOutDir, relOutDir):\n",
    "        fileName = self.object.name+\"Mesh.usesconf\"\n",
    "        s = string.Template(Template)\n",
    "        f = open(absOutDir+\"\\\\\"+fileName, 'w')\n",
    "        if f:\n",
    "            f.write(s.substitute(folderName = relOutDir,\n",
    "                                 cr = self.cr,\n",
    "                                 Scale = self.Scale\n",
    "                                 ))\n",
    "            f.close()\n",
    "        uvmod.Utility.copyfoldercontents(os.getcwd()+\"\\\\\"+dataFolder, absOutDir)"
   ]
  },
  {
   "cell_type": "markdown",
   "metadata": {},
   "source": [
    "### Object Instantiation"
   ]
  },
  {
   "cell_type": "code",
   "execution_count": 110,
   "metadata": {},
   "outputs": [],
   "source": [
    "model = SNIa(uvmod.OrbitalObject())\n",
    "scene = uvmod.Scene()\n",
    "parentScene = uvmod.Scene()\n",
    "modinfo = uvmod.ModuleInformation()\n",
    "generator = uvmod.Generator()"
   ]
  },
  {
   "cell_type": "markdown",
   "metadata": {},
   "source": [
    "### Specify Settings and generate the module"
   ]
  },
  {
   "cell_type": "code",
   "execution_count": 111,
   "metadata": {},
   "outputs": [],
   "source": [
    "scene.setname(\"SNIa\")\n",
    "scene.setparent(\"Extragalactic\")\n",
    "scene.setunit(1e12)\n",
    "scene.setentrydist(1e5)\n",
    "scene.setstaticposition(-1041300.54825135, 627510.72247035, 3282060.85583375)\n",
    "\n",
    "model.object.setcameraradius(0.0001)\n",
    "model.object.setcoord(scene.name)\n",
    "model.object.setname(\"SNIaa\")\n",
    "model.object.setguiname(\"/KavliLecture/Zooniverse/SNIa\")\n",
    "model.object.settargetradius(10)\n",
    "model.object.showatstartup(False)\n",
    "model.cr = 1000\n",
    "\n",
    "modinfo.setname(\"SNIa\")\n",
    "modinfo.setauthor(\"Aaron Geller<sup>1</sup>, Laura Trouille<sup>1</sup> and Chris Lintott<sup>2</sup><br />(1)Adler Planetarium,<br />(2)Oxford University\")\n",
    "modinfo.cleardependencies()\n",
    "modinfo.setdesc(\"Uniview module for a SN Ia\")\n",
    "#modinfo.setthumbnail(\"data/R0010133.JPG\")\n",
    "modinfo.setversion(\"1.0\")\n",
    "\n",
    "generator.generate(\"SNIa\",[scene],[model],modinfo)\n",
    "uvmod.Utility.senduvcommand(model.object.name+\".reload\")"
   ]
  },
  {
   "cell_type": "markdown",
   "metadata": {},
   "source": [
    "## Helper Functions for modifing code\n",
    "*Reload Module and Shaders in Uniview*"
   ]
  },
  {
   "cell_type": "code",
   "execution_count": 9,
   "metadata": {},
   "outputs": [],
   "source": [
    "from config import Settings"
   ]
  },
  {
   "cell_type": "code",
   "execution_count": 99,
   "metadata": {},
   "outputs": [],
   "source": [
    "uvmod.Utility.copyfoldercontents(os.getcwd()+\"\\\\\"+dataFolder, Settings.uvcustommodulelocation+'\\\\'+model.object.name)\n",
    "uvmod.Utility.senduvcommand(model.object.name+\".reload\")"
   ]
  },
  {
   "cell_type": "markdown",
   "metadata": {},
   "source": [
    "## Create colormap texture"
   ]
  },
  {
   "cell_type": "code",
   "execution_count": 1,
   "metadata": {},
   "outputs": [],
   "source": [
    "import numpy as np\n",
    "import matplotlib.pyplot as plt\n",
    "from matplotlib import cm\n",
    "%matplotlib inline"
   ]
  },
  {
   "cell_type": "code",
   "execution_count": 6,
   "metadata": {},
   "outputs": [
    {
     "data": {
      "image/png": "[encoded data removed]",
      "text/plain": [
       "<Figure size 432x288 with 1 Axes>"
      ]
     },
     "metadata": {
      "needs_background": "light"
     },
     "output_type": "display_data"
    }
   ],
   "source": [
    "gradient = np.linspace(0, 1, 256)\n",
    "gradient = np.vstack((gradient, gradient))\n",
    "\n",
    "def plot_cmap(colormap, fname):\n",
    "    fig=plt.imshow(gradient, aspect=1, cmap=colormap)\n",
    "    plt.axis('off')\n",
    "    fig.axes.get_xaxis().set_visible(False)\n",
    "    fig.axes.get_yaxis().set_visible(False)\n",
    "    plt.savefig(fname, bbox_inches='tight',pad_inches=0)\n",
    "\n",
    "plot_cmap('plasma', 'data/cmapOptical.png')\n",
    "plot_cmap('Blues', 'data/cmapBlue.png')"
   ]
  },
  {
   "cell_type": "markdown",
   "metadata": {},
   "source": [
    "## Position  of SN 2014J in M82"
   ]
  },
  {
   "cell_type": "code",
   "execution_count": 8,
   "metadata": {},
   "outputs": [],
   "source": [
    "from astropy.coordinates import SkyCoord\n",
    "from astropy import units"
   ]
  },
  {
   "cell_type": "code",
   "execution_count": 9,
   "metadata": {},
   "outputs": [
    {
     "name": "stdout",
     "output_type": "stream",
     "text": [
      "(-1041300.54825135, 627510.72247035, 3282060.85583375) pc\n"
     ]
    }
   ],
   "source": [
    "RA = \"9h 55m 42.217s\" #right ascension\n",
    "Dec= \"69d 40m 26.56s\" #declination\n",
    "dist = (3500000 *units.pc) #distance\n",
    "\n",
    "coord = SkyCoord(RA, Dec, dist)\n",
    "\n",
    "print(coord.cartesian)"
   ]
  },
  {
   "cell_type": "code",
   "execution_count": null,
   "metadata": {},
   "outputs": [],
   "source": []
  }
 ],
 "metadata": {
  "anaconda-cloud": {},
  "kernelspec": {
   "display_name": "Python 3",
   "language": "python",
   "name": "python3"
  },
  "language_info": {
   "codemirror_mode": {
    "name": "ipython",
    "version": 3
   },
   "file_extension": ".py",
   "mimetype": "text/x-python",
   "name": "python",
   "nbconvert_exporter": "python",
   "pygments_lexer": "ipython3",
   "version": "3.7.3"
  }
 },
 "nbformat": 4,
 "nbformat_minor": 1
}
